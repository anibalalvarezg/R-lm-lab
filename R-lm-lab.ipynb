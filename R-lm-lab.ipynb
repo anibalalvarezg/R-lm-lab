{
 "cells": [
  {
   "cell_type": "code",
   "execution_count": null,
   "id": "d59cab8c",
   "metadata": {
    "vscode": {
     "languageId": "r"
    }
   },
   "outputs": [
    {
     "name": "stderr",
     "output_type": "stream",
     "text": [
      "Installing packages into ‘/home/alvarezg/R/x86_64-pc-linux-gnu-library/4.3’\n",
      "(as ‘lib’ is unspecified)\n",
      "\n",
      "Warning message:\n",
      "“package ‘MASS’ is not available for this version of R\n",
      "‘MASS’ version 7.3-65 is in the repositories but depends on R (>= 4.4.0)\n",
      "‘MASS’ version 7.3-65 is in the repositories but depends on R (>= 4.6)\n",
      "\n",
      "A version of this package for your version of R might be available elsewhere,\n",
      "see the ideas at\n",
      "https://cran.r-project.org/doc/manuals/r-patched/R-admin.html#Installing-packages”\n",
      "Loading required package: carData\n",
      "\n",
      "Loading required package: zoo\n",
      "\n",
      "\n",
      "Attaching package: ‘zoo’\n",
      "\n",
      "\n",
      "The following objects are masked from ‘package:base’:\n",
      "\n",
      "    as.Date, as.Date.numeric\n",
      "\n",
      "\n",
      "Loading required package: Matrix\n",
      "\n",
      "Loaded glmnet 4.1-10\n",
      "\n",
      "Loading required package: lattice\n",
      "\n"
     ]
    }
   ],
   "source": [
    "#install.packages(c(\"ggplot2\", \"car\", \"lmtest\", \"MASS\", \"nortest\", \"glmnet\", \"caret\"))\n",
    "library(ggplot2)# Para gráficos\n",
    "library(car)# Para diagnósticos de regresión (VIF)\n",
    "library(lmtest)# Para tests de diagnóstico (bptest)\n",
    "library(MASS)# Para regresión robusta (rlm)\n",
    "library(nortest)# Para tests de normalidad\n",
    "library(glmnet)# Para regresión penalizada (Ridge, Lasso, Elastic Net)\n",
    "library(caret)# Para facilitar el modelado y la evaluación"
   ]
  },
  {
   "cell_type": "code",
   "execution_count": 9,
   "id": "22485f12",
   "metadata": {
    "vscode": {
     "languageId": "r"
    }
   },
   "outputs": [
    {
     "data": {
      "text/html": [
       "<table class=\"dataframe\">\n",
       "<caption>A data.frame: 6 × 8</caption>\n",
       "<thead>\n",
       "\t<tr><th></th><th scope=col>gender</th><th scope=col>race.ethnicity</th><th scope=col>parental.level.of.education</th><th scope=col>lunch</th><th scope=col>test.preparation.course</th><th scope=col>math.score</th><th scope=col>reading.score</th><th scope=col>writing.score</th></tr>\n",
       "\t<tr><th></th><th scope=col>&lt;chr&gt;</th><th scope=col>&lt;chr&gt;</th><th scope=col>&lt;chr&gt;</th><th scope=col>&lt;chr&gt;</th><th scope=col>&lt;chr&gt;</th><th scope=col>&lt;int&gt;</th><th scope=col>&lt;int&gt;</th><th scope=col>&lt;int&gt;</th></tr>\n",
       "</thead>\n",
       "<tbody>\n",
       "\t<tr><th scope=row>1</th><td>female</td><td>group B</td><td>bachelor's degree </td><td>standard    </td><td>none     </td><td>72</td><td>72</td><td>74</td></tr>\n",
       "\t<tr><th scope=row>2</th><td>female</td><td>group C</td><td>some college      </td><td>standard    </td><td>completed</td><td>69</td><td>90</td><td>88</td></tr>\n",
       "\t<tr><th scope=row>3</th><td>female</td><td>group B</td><td>master's degree   </td><td>standard    </td><td>none     </td><td>90</td><td>95</td><td>93</td></tr>\n",
       "\t<tr><th scope=row>4</th><td>male  </td><td>group A</td><td>associate's degree</td><td>free/reduced</td><td>none     </td><td>47</td><td>57</td><td>44</td></tr>\n",
       "\t<tr><th scope=row>5</th><td>male  </td><td>group C</td><td>some college      </td><td>standard    </td><td>none     </td><td>76</td><td>78</td><td>75</td></tr>\n",
       "\t<tr><th scope=row>6</th><td>female</td><td>group B</td><td>associate's degree</td><td>standard    </td><td>none     </td><td>71</td><td>83</td><td>78</td></tr>\n",
       "</tbody>\n",
       "</table>\n"
      ],
      "text/latex": [
       "A data.frame: 6 × 8\n",
       "\\begin{tabular}{r|llllllll}\n",
       "  & gender & race.ethnicity & parental.level.of.education & lunch & test.preparation.course & math.score & reading.score & writing.score\\\\\n",
       "  & <chr> & <chr> & <chr> & <chr> & <chr> & <int> & <int> & <int>\\\\\n",
       "\\hline\n",
       "\t1 & female & group B & bachelor's degree  & standard     & none      & 72 & 72 & 74\\\\\n",
       "\t2 & female & group C & some college       & standard     & completed & 69 & 90 & 88\\\\\n",
       "\t3 & female & group B & master's degree    & standard     & none      & 90 & 95 & 93\\\\\n",
       "\t4 & male   & group A & associate's degree & free/reduced & none      & 47 & 57 & 44\\\\\n",
       "\t5 & male   & group C & some college       & standard     & none      & 76 & 78 & 75\\\\\n",
       "\t6 & female & group B & associate's degree & standard     & none      & 71 & 83 & 78\\\\\n",
       "\\end{tabular}\n"
      ],
      "text/markdown": [
       "\n",
       "A data.frame: 6 × 8\n",
       "\n",
       "| <!--/--> | gender &lt;chr&gt; | race.ethnicity &lt;chr&gt; | parental.level.of.education &lt;chr&gt; | lunch &lt;chr&gt; | test.preparation.course &lt;chr&gt; | math.score &lt;int&gt; | reading.score &lt;int&gt; | writing.score &lt;int&gt; |\n",
       "|---|---|---|---|---|---|---|---|---|\n",
       "| 1 | female | group B | bachelor's degree  | standard     | none      | 72 | 72 | 74 |\n",
       "| 2 | female | group C | some college       | standard     | completed | 69 | 90 | 88 |\n",
       "| 3 | female | group B | master's degree    | standard     | none      | 90 | 95 | 93 |\n",
       "| 4 | male   | group A | associate's degree | free/reduced | none      | 47 | 57 | 44 |\n",
       "| 5 | male   | group C | some college       | standard     | none      | 76 | 78 | 75 |\n",
       "| 6 | female | group B | associate's degree | standard     | none      | 71 | 83 | 78 |\n",
       "\n"
      ],
      "text/plain": [
       "  gender race.ethnicity parental.level.of.education lunch       \n",
       "1 female group B        bachelor's degree           standard    \n",
       "2 female group C        some college                standard    \n",
       "3 female group B        master's degree             standard    \n",
       "4 male   group A        associate's degree          free/reduced\n",
       "5 male   group C        some college                standard    \n",
       "6 female group B        associate's degree          standard    \n",
       "  test.preparation.course math.score reading.score writing.score\n",
       "1 none                    72         72            74           \n",
       "2 completed               69         90            88           \n",
       "3 none                    90         95            93           \n",
       "4 none                    47         57            44           \n",
       "5 none                    76         78            75           \n",
       "6 none                    71         83            78           "
      ]
     },
     "metadata": {},
     "output_type": "display_data"
    }
   ],
   "source": [
    "# Cargar los datos\n",
    "datos <- read.csv(\"StudentsPerformance[1].csv\", sep = \",\", header = TRUE, stringsAsFactors = FALSE)\n",
    "head(datos)"
   ]
  },
  {
   "cell_type": "code",
   "execution_count": null,
   "id": "249fd16e",
   "metadata": {
    "vscode": {
     "languageId": "r"
    }
   },
   "outputs": [],
   "source": [
    "# Cargar los datos y renombrar las columnas\n",
    "datos <- read.csv(\"StudentsPerformance[1].csv\", sep = \",\", header = TRUE, stringsAsFactors = FALSE)\n",
    "colnames(datos) <- c(\n",
    "  \"gender\",\n",
    "  \"race_ethnicity\",\n",
    "  \"parent_education\",\n",
    "  \"lunch\",\n",
    "  \"test_prep\",\n",
    "  \"math_score\",\n",
    "  \"reading_score\",\n",
    "  \"writing_score\"\n",
    ")\n",
    "\n",
    "# Convertir variables categóricas a factores\n",
    "datos <- within(datos, {\n",
    "  gender <- as.factor(gender)\n",
    "  race_ethnicity <- as.factor(race_ethnicity)\n",
    "  parent_education <- as.factor(parent_education)\n",
    "  lunch <- as.factor(lunch)\n",
    "  test_prep <- as.factor(test_prep)\n",
    "})"
   ]
  }
 ],
 "metadata": {
  "kernelspec": {
   "display_name": "R",
   "language": "R",
   "name": "ir"
  },
  "language_info": {
   "codemirror_mode": "r",
   "file_extension": ".r",
   "mimetype": "text/x-r-source",
   "name": "R",
   "pygments_lexer": "r",
   "version": "4.3.3"
  }
 },
 "nbformat": 4,
 "nbformat_minor": 5
}
