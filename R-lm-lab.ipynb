{
 "cells": [
  {
   "cell_type": "code",
   "execution_count": null,
   "id": "d59cab8c",
   "metadata": {
    "vscode": {
     "languageId": "r"
    }
   },
   "outputs": [
    {
     "name": "stderr",
     "output_type": "stream",
     "text": [
      "Installing packages into ‘/home/alvarezg/R/x86_64-pc-linux-gnu-library/4.3’\n",
      "(as ‘lib’ is unspecified)\n",
      "\n",
      "Warning message:\n",
      "“package ‘MASS’ is not available for this version of R\n",
      "‘MASS’ version 7.3-65 is in the repositories but depends on R (>= 4.4.0)\n",
      "‘MASS’ version 7.3-65 is in the repositories but depends on R (>= 4.6)\n",
      "\n",
      "A version of this package for your version of R might be available elsewhere,\n",
      "see the ideas at\n",
      "https://cran.r-project.org/doc/manuals/r-patched/R-admin.html#Installing-packages”\n",
      "Loading required package: carData\n",
      "\n",
      "Loading required package: zoo\n",
      "\n",
      "\n",
      "Attaching package: ‘zoo’\n",
      "\n",
      "\n",
      "The following objects are masked from ‘package:base’:\n",
      "\n",
      "    as.Date, as.Date.numeric\n",
      "\n",
      "\n",
      "Loading required package: Matrix\n",
      "\n",
      "Loaded glmnet 4.1-10\n",
      "\n",
      "Loading required package: lattice\n",
      "\n"
     ]
    }
   ],
   "source": [
    "#install.packages(c(\"ggplot2\", \"car\", \"lmtest\", \"MASS\", \"nortest\", \"glmnet\", \"caret\"))\n",
    "library(ggplot2)# Para gráficos\n",
    "library(car)# Para diagnósticos de regresión (VIF)\n",
    "library(lmtest)# Para tests de diagnóstico (bptest)\n",
    "library(MASS)# Para regresión robusta (rlm)\n",
    "library(nortest)# Para tests de normalidad\n",
    "library(glmnet)# Para regresión penalizada (Ridge, Lasso, Elastic Net)\n",
    "library(caret)# Para facilitar el modelado y la evaluación"
   ]
  },
  {
   "cell_type": "code",
   "execution_count": null,
   "id": "22485f12",
   "metadata": {
    "vscode": {
     "languageId": "r"
    }
   },
   "outputs": [],
   "source": []
  }
 ],
 "metadata": {
  "kernelspec": {
   "display_name": "R",
   "language": "R",
   "name": "ir"
  },
  "language_info": {
   "codemirror_mode": "r",
   "file_extension": ".r",
   "mimetype": "text/x-r-source",
   "name": "R",
   "pygments_lexer": "r",
   "version": "4.3.3"
  }
 },
 "nbformat": 4,
 "nbformat_minor": 5
}
